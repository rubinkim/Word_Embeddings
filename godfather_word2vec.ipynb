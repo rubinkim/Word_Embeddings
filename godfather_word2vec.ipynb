{
 "cells": [
  {
   "cell_type": "code",
   "execution_count": null,
   "metadata": {},
   "outputs": [],
   "source": [
    "To download a .txt file from a URL in Python, you can use the `requests` library. Here's an example code snippet that demonstrates the process:\n",
    "\n",
    "```python\n",
    "import requests\n",
    "\n",
    "def download_txt_file(url, save_path):\n",
    "    response = requests.get(url)\n",
    "    if response.status_code == 200:\n",
    "        with open(save_path, 'wb') as file:\n",
    "            file.write(response.content)\n",
    "        print(\"File downloaded successfully.\")\n",
    "    else:\n",
    "        print(\"Failed to download the file.\")\n",
    "\n",
    "# Example usage\n",
    "url = \"https://example.com/example.txt\"\n",
    "save_path = \"path/to/save/file.txt\"\n",
    "download_txt_file(url, save_path)\n",
    "```\n",
    "\n",
    "In this code, the `download_txt_file` function takes the URL of the .txt file and the desired save path as input. \n",
    "It sends a GET request to the URL using `requests.get(url)`. If the response status code is 200 (indicating a successful request), \n",
    "it saves the response content to the specified file path using a binary write mode (`'wb'`). Finally, it prints a success message or a failure message based on the result.\n",
    "\n",
    "Make sure to replace the `url` and `save_path` variables with the actual URL of the .txt file you want to download and the desired save path on your system."
   ]
  },
  {
   "cell_type": "code",
   "execution_count": 1,
   "metadata": {},
   "outputs": [],
   "source": [
    "# To download a .txt file from a URL in Python, you can use the `requests` library.\n",
    "\n",
    "import requests"
   ]
  },
  {
   "cell_type": "code",
   "execution_count": 2,
   "metadata": {},
   "outputs": [],
   "source": [
    "# This function takes the URL of the .txt file and the desired path as input.\n",
    "# It sends a GET request to the URL using `requests.get(ulr)`. If the response status code is 200, it indicates a successful request.\n",
    "# It saves the response content to the specified file paht using a binary write mode(`wb`).\n",
    "# Finally, it prints a success message or a failure message based on the result.\n",
    "# Make sure to replace the `url` and `save_path` variable with the actual URL of the .txt you want to download and the desired save path on your system.\n",
    "\n",
    "def download_txt_file(url, save_path):\n",
    "    response = requests.get(url)\n",
    "    \n",
    "    if response.status_code == 200:\n",
    "        with open(save_path, 'wb') as file:\n",
    "            file.write(response.content)\n",
    "        print(\"File downloaded successfully!\")\n",
    "        \n",
    "    else:\n",
    "        print(\"Failed to download the file.\")"
   ]
  },
  {
   "cell_type": "code",
   "execution_count": null,
   "metadata": {},
   "outputs": [],
   "source": []
  }
 ],
 "metadata": {
  "kernelspec": {
   "display_name": "tf_gpu",
   "language": "python",
   "name": "python3"
  },
  "language_info": {
   "codemirror_mode": {
    "name": "ipython",
    "version": 3
   },
   "file_extension": ".py",
   "mimetype": "text/x-python",
   "name": "python",
   "nbconvert_exporter": "python",
   "pygments_lexer": "ipython3",
   "version": "3.9.13"
  },
  "orig_nbformat": 4
 },
 "nbformat": 4,
 "nbformat_minor": 2
}
