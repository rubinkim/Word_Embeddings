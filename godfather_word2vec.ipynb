{
 "cells": [
  {
   "cell_type": "code",
   "execution_count": 1,
   "metadata": {},
   "outputs": [],
   "source": [
    "# To download a .txt file from a URL in Python, you can use the `requests` library.\n",
    "\n",
    "import requests"
   ]
  },
  {
   "cell_type": "code",
   "execution_count": 2,
   "metadata": {},
   "outputs": [],
   "source": [
    "# This function takes the URL of the .txt file and the desired path as input.\n",
    "# It sends a GET request to the URL using `requests.get(ulr)`. If the response status code is 200, it indicates a successful request.\n",
    "# It saves the response content to the specified file paht using a binary write mode(`wb`).\n",
    "# Finally, it prints a success message or a failure message based on the result.\n",
    "# Make sure to replace the `url` and `save_path` variable with the actual URL of the .txt you want to download and the desired save path on your system.\n",
    "\n",
    "def download_txt_file(url, save_path):\n",
    "    response = requests.get(url)\n",
    "    \n",
    "    if response.status_code == 200:\n",
    "        with open(save_path, 'wb') as file:\n",
    "            file.write(response.content)\n",
    "        print(\"File downloaded successfully!\")\n",
    "        \n",
    "    else:\n",
    "        print(\"Failed to download the file.\")"
   ]
  },
  {
   "cell_type": "code",
   "execution_count": 4,
   "metadata": {},
   "outputs": [
    {
     "name": "stdout",
     "output_type": "stream",
     "text": [
      "File downloaded successfully!\n"
     ]
    }
   ],
   "source": [
    "url = \"http://www.awesomefilm.com/script/THEGODFATHER.txt\"\n",
    "save_path = \"data/theGodFather.txt\"\n",
    "\n",
    "download_txt_file(url, save_path)"
   ]
  },
  {
   "cell_type": "code",
   "execution_count": null,
   "metadata": {},
   "outputs": [],
   "source": [
    "```python\n",
    "from bs4 import BeautifulSoup\n",
    "import requests\n",
    "```\n",
    "\n",
    "2. Send a request to the web page and retrieve its HTML content:\n",
    "\n",
    "```python\n",
    "url = \"https://example.com\"  # Replace with the URL of the web page you want to parse\n",
    "response = requests.get(url)\n",
    "html_content = response.content\n",
    "```\n",
    "\n",
    "3. Create a BeautifulSoup object to parse the HTML:\n",
    "\n",
    "```python\n",
    "soup = BeautifulSoup(html_content, \"html.parser\")\n",
    "```\n",
    "\n",
    "4. Use BeautifulSoup's methods to extract the desired information from the HTML structure. For example, you can find elements by their tags, classes, IDs, or other attributes:\n",
    "\n",
    "```python\n",
    "# Find all <a> tags with class \"link\"\n",
    "links = soup.find_all(\"a\", class_=\"link\")\n",
    "\n",
    "# Find the first <h1> tag\n",
    "heading = soup.find(\"h1\")\n",
    "\n",
    "# Extract the text content of the first <p> tag with class \"description\"\n",
    "description = soup.find(\"p\", class_=\"description\").text\n",
    "```\n",
    "\n",
    "You can explore more methods provided by BeautifulSoup to navigate and extract data from the HTML structure based on your specific requirements.\n",
    "\n",
    "Note: When parsing a web page, make sure to review its terms of service and respect the website's policies regarding web scraping and data usage."
   ]
  },
  {
   "cell_type": "code",
   "execution_count": 6,
   "metadata": {},
   "outputs": [],
   "source": [
    "# To parse an HTML web page, you can use various programming languages and libraries, such as Python with BeautifulSoup or lxml, JavaScript with Cheerio.\n",
    "\n",
    "# 1. Import necessary libraries\n",
    "import requests\n",
    "from bs4 import BeautifulSoup"
   ]
  },
  {
   "cell_type": "code",
   "execution_count": null,
   "metadata": {},
   "outputs": [],
   "source": []
  }
 ],
 "metadata": {
  "kernelspec": {
   "display_name": "tf_gpu",
   "language": "python",
   "name": "python3"
  },
  "language_info": {
   "codemirror_mode": {
    "name": "ipython",
    "version": 3
   },
   "file_extension": ".py",
   "mimetype": "text/x-python",
   "name": "python",
   "nbconvert_exporter": "python",
   "pygments_lexer": "ipython3",
   "version": "3.9.13"
  },
  "orig_nbformat": 4
 },
 "nbformat": 4,
 "nbformat_minor": 2
}
