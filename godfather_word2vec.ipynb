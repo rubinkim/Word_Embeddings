{
 "cells": [
  {
   "cell_type": "code",
   "execution_count": 1,
   "metadata": {},
   "outputs": [],
   "source": [
    "# To download a .txt file from a URL in Python, you can use the `requests` library.\n",
    "\n",
    "import requests"
   ]
  },
  {
   "cell_type": "code",
   "execution_count": 2,
   "metadata": {},
   "outputs": [],
   "source": [
    "# This function takes the URL of the .txt file and the desired path as input.\n",
    "# It sends a GET request to the URL using `requests.get(ulr)`. If the response status code is 200, it indicates a successful request.\n",
    "# It saves the response content to the specified file paht using a binary write mode(`wb`).\n",
    "# Finally, it prints a success message or a failure message based on the result.\n",
    "# Make sure to replace the `url` and `save_path` variable with the actual URL of the .txt you want to download and the desired save path on your system.\n",
    "\n",
    "def download_txt_file(url, save_path):\n",
    "    response = requests.get(url)\n",
    "    \n",
    "    if response.status_code == 200:\n",
    "        with open(save_path, 'wb') as file:\n",
    "            file.write(response.content)\n",
    "        print(\"File downloaded successfully!\")\n",
    "        \n",
    "    else:\n",
    "        print(\"Failed to download the file.\")"
   ]
  },
  {
   "cell_type": "code",
   "execution_count": 4,
   "metadata": {},
   "outputs": [
    {
     "name": "stdout",
     "output_type": "stream",
     "text": [
      "File downloaded successfully!\n"
     ]
    }
   ],
   "source": [
    "url = \"http://www.awesomefilm.com/script/THEGODFATHER.txt\"\n",
    "save_path = \"data/theGodFather.txt\"\n",
    "\n",
    "download_txt_file(url, save_path)"
   ]
  },
  {
   "cell_type": "code",
   "execution_count": null,
   "metadata": {},
   "outputs": [],
   "source": [
    "4. Use BeautifulSoup's methods to extract the desired information from the HTML structure. For example, you can find elements by their tags, classes, IDs, or other attributes:\n",
    "\n",
    "```python\n",
    "# Find all <a> tags with class \"link\"\n",
    "links = soup.find_all(\"a\", class_=\"link\")\n",
    "\n",
    "# Find the first <h1> tag\n",
    "heading = soup.find(\"h1\")\n",
    "\n",
    "# Extract the text content of the first <p> tag with class \"description\"\n",
    "description = soup.find(\"p\", class_=\"description\").text\n",
    "```\n",
    "\n",
    "You can explore more methods provided by BeautifulSoup to navigate and extract data from the HTML structure based on your specific requirements.\n",
    "\n",
    "Note: When parsing a web page, make sure to review its terms of service and respect the website's policies regarding web scraping and data usage."
   ]
  },
  {
   "cell_type": "code",
   "execution_count": 64,
   "metadata": {},
   "outputs": [],
   "source": [
    "# To parse an HTML web page, you can use various programming languages and libraries, such as Python with BeautifulSoup or lxml, JavaScript with Cheerio.\n",
    "\n",
    "# 1. Import necessary libraries\n",
    "import requests\n",
    "from bs4 import BeautifulSoup\n",
    "\n",
    "# 2. Send a request to the web page and retrieve its HTML content\n",
    "url = \"https://imsdb.com/scripts/Godfather.html\"\n",
    "response = requests.get(url)\n",
    "html_content = response.content\n",
    "\n",
    "# 3. Create a BeautifulSoup object to parse the HTML\n",
    "soup = BeautifulSoup(html_content, \"html.parser\")\n",
    "\n",
    "# 4. Use BeautifulSoup's methods to extract the desired information from the HTML structure.\n",
    "# For example, you can find elements by their tags, classes, IDs, or other attributes.\n",
    "# Find the <pre> tag\n",
    "scripts = soup.find_all(\"b\")[:10]"
   ]
  },
  {
   "cell_type": "code",
   "execution_count": 73,
   "metadata": {},
   "outputs": [],
   "source": [
    "# Extract the text content of the <br> tag.\n",
    "raw_character_text_list = []\n",
    "spoken_words_list = []\n",
    "\n",
    "for index, s in enumerate(scripts):\n",
    "    #print(index, s.text, s.next_sibling)\n",
    "    raw_character_text_list.append(s.text)\n",
    "    spoken_words_list.append(s.next_sibling)   "
   ]
  },
  {
   "cell_type": "code",
   "execution_count": 69,
   "metadata": {},
   "outputs": [],
   "source": [
    "import pandas as pd"
   ]
  },
  {
   "cell_type": "code",
   "execution_count": 95,
   "metadata": {},
   "outputs": [
    {
     "data": {
      "text/html": [
       "<div>\n",
       "<style scoped>\n",
       "    .dataframe tbody tr th:only-of-type {\n",
       "        vertical-align: middle;\n",
       "    }\n",
       "\n",
       "    .dataframe tbody tr th {\n",
       "        vertical-align: top;\n",
       "    }\n",
       "\n",
       "    .dataframe thead th {\n",
       "        text-align: right;\n",
       "    }\n",
       "</style>\n",
       "<table border=\"1\" class=\"dataframe\">\n",
       "  <thead>\n",
       "    <tr style=\"text-align: right;\">\n",
       "      <th></th>\n",
       "      <th>raw_character_text</th>\n",
       "      <th>spoken_words</th>\n",
       "    </tr>\n",
       "  </thead>\n",
       "  <tbody>\n",
       "    <tr>\n",
       "      <th>0</th>\n",
       "      <td>\\tTHE GODFATHER\\r\\n</td>\n",
       "      <td>[\\t_____________\\r\\n]</td>\n",
       "    </tr>\n",
       "    <tr>\n",
       "      <th>1</th>\n",
       "      <td>\\t_____________\\r\\n</td>\n",
       "      <td>\\r\\n\\tScreenplay\\r\\n\\r\\n\\tby\\r\\n\\r\\n</td>\n",
       "    </tr>\n",
       "    <tr>\n",
       "      <th>2</th>\n",
       "      <td>\\tMARIO PUZO\\r\\n</td>\n",
       "      <td>\\r\\n\\tand\\r\\n\\r\\n</td>\n",
       "    </tr>\n",
       "    <tr>\n",
       "      <th>3</th>\n",
       "      <td>\\tFRANCIS FORD COPPOLA\\r\\n</td>\n",
       "      <td>\\r\\n\\r\\n\\r\\n\\r\\n\\r\\n\\r\\n\\r\\n\\r\\n\\r\\n\\r\\n\\r\\n\\r...</td>\n",
       "    </tr>\n",
       "    <tr>\n",
       "      <th>4</th>\n",
       "      <td>THIRD DRAFT\\t\\t\\t\\tPARAMOUNT PICTURES\\r\\n</td>\n",
       "      <td>\\t\\t\\t\\t\\t1 Gulf and Western Plaza\\r\\nMarch 29...</td>\n",
       "    </tr>\n",
       "    <tr>\n",
       "      <th>5</th>\n",
       "      <td>\\tINT DAY: DON'S OFFICE (SUMMER 1945)\\r\\n</td>\n",
       "      <td>\\r\\n\\tThe PARAMOUNT Logo is presented austerel...</td>\n",
       "    </tr>\n",
       "    <tr>\n",
       "      <th>6</th>\n",
       "      <td>\\t\\t\\t\\t  THE GODFATHER\\r\\n</td>\n",
       "      <td>\\r\\n\\tWhile this remains, we hear: \"I believe ...</td>\n",
       "    </tr>\n",
       "    <tr>\n",
       "      <th>7</th>\n",
       "      <td>\\t\\t\\t\\tBONASERA\\r\\n</td>\n",
       "      <td>\\t\\tAmerica has made my fortune.\\r\\n\\r\\n\\tAs h...</td>\n",
       "    </tr>\n",
       "    <tr>\n",
       "      <th>8</th>\n",
       "      <td>\\t\\t\\t\\tBONASERA\\r\\n</td>\n",
       "      <td>\\t\\tI raised my daughter in the American\\r\\n\\t...</td>\n",
       "    </tr>\n",
       "    <tr>\n",
       "      <th>9</th>\n",
       "      <td>\\t\\t\\t\\tBONASERA\\r\\n</td>\n",
       "      <td>\\t\\tI went to the Police like a good\\r\\n\\t\\tAm...</td>\n",
       "    </tr>\n",
       "  </tbody>\n",
       "</table>\n",
       "</div>"
      ],
      "text/plain": [
       "                          raw_character_text  \\\n",
       "0                        \\tTHE GODFATHER\\r\\n   \n",
       "1                        \\t_____________\\r\\n   \n",
       "2                           \\tMARIO PUZO\\r\\n   \n",
       "3                 \\tFRANCIS FORD COPPOLA\\r\\n   \n",
       "4  THIRD DRAFT\\t\\t\\t\\tPARAMOUNT PICTURES\\r\\n   \n",
       "5  \\tINT DAY: DON'S OFFICE (SUMMER 1945)\\r\\n   \n",
       "6                \\t\\t\\t\\t  THE GODFATHER\\r\\n   \n",
       "7                       \\t\\t\\t\\tBONASERA\\r\\n   \n",
       "8                       \\t\\t\\t\\tBONASERA\\r\\n   \n",
       "9                       \\t\\t\\t\\tBONASERA\\r\\n   \n",
       "\n",
       "                                        spoken_words  \n",
       "0                              [\\t_____________\\r\\n]  \n",
       "1               \\r\\n\\tScreenplay\\r\\n\\r\\n\\tby\\r\\n\\r\\n  \n",
       "2                                  \\r\\n\\tand\\r\\n\\r\\n  \n",
       "3  \\r\\n\\r\\n\\r\\n\\r\\n\\r\\n\\r\\n\\r\\n\\r\\n\\r\\n\\r\\n\\r\\n\\r...  \n",
       "4  \\t\\t\\t\\t\\t1 Gulf and Western Plaza\\r\\nMarch 29...  \n",
       "5  \\r\\n\\tThe PARAMOUNT Logo is presented austerel...  \n",
       "6  \\r\\n\\tWhile this remains, we hear: \"I believe ...  \n",
       "7  \\t\\tAmerica has made my fortune.\\r\\n\\r\\n\\tAs h...  \n",
       "8  \\t\\tI raised my daughter in the American\\r\\n\\t...  \n",
       "9  \\t\\tI went to the Police like a good\\r\\n\\t\\tAm...  "
      ]
     },
     "execution_count": 95,
     "metadata": {},
     "output_type": "execute_result"
    }
   ],
   "source": [
    "godfather_df = pd.DataFrame({\"raw_character_text\" : raw_character_text_list, \"spoken_words\" : spoken_words_list})\n",
    "\n",
    "godfather_df"
   ]
  },
  {
   "cell_type": "code",
   "execution_count": 96,
   "metadata": {},
   "outputs": [
    {
     "data": {
      "text/plain": [
       "'\\t\\tI raised my daughter in the American\\r\\n\\t\\tfashion; I gave her freedom, but\\r\\n\\t\\ttaught her never to dishonor her\\r\\n\\t\\tfamily.  She found a boy friend,\\r\\n\\t\\tnot an Italian.  She went to the\\r\\n\\t\\tmovies with him, stayed out late.\\r\\n\\t\\tTwo months ago he took her for a\\r\\n\\t\\tdrive, with another boy friend.\\r\\n\\t\\tThey made her drink whiskey and\\r\\n\\t\\tthen they tried to take advantage\\r\\n\\t\\tof her.  She resisted; she kept her\\r\\n\\t\\thonor.  So they beat her like an\\r\\n\\t\\tanimal.  When I went to the hospital\\r\\n\\t\\ther nose was broken, her jaw was\\r\\n\\t\\tshattered and held together by\\r\\n\\t\\twire, and she could not even weep\\r\\n\\t\\tbecause of the pain.\\r\\n\\r\\n\\tHe can barely speak; he is weeping now.\\r\\n\\r\\n'"
      ]
     },
     "execution_count": 96,
     "metadata": {},
     "output_type": "execute_result"
    }
   ],
   "source": [
    "godfather_df.loc[8, 'spoken_words']"
   ]
  },
  {
   "cell_type": "code",
   "execution_count": 97,
   "metadata": {},
   "outputs": [],
   "source": [
    "import re\n",
    "\n",
    "def remove_non_alphabetic_characters(row):\n",
    "    cleaning_text = re.sub(\"[\\t\\r\\n_<b></b>]+\", \"\", str(row)).lower()\n",
    "    return cleaning_text"
   ]
  },
  {
   "cell_type": "code",
   "execution_count": 98,
   "metadata": {},
   "outputs": [
    {
     "name": "stdout",
     "output_type": "stream",
     "text": [
      "0 raw_character_text      \\tTHE GODFATHER\\r\\n\n",
      "spoken_words          [\\t_____________\\r\\n]\n",
      "Name: 0, dtype: object\n",
      "1 raw_character_text                     \\t_____________\\r\\n\n",
      "spoken_words          \\r\\n\\tScreenplay\\r\\n\\r\\n\\tby\\r\\n\\r\\n\n",
      "Name: 1, dtype: object\n",
      "2 raw_character_text     \\tMARIO PUZO\\r\\n\n",
      "spoken_words          \\r\\n\\tand\\r\\n\\r\\n\n",
      "Name: 2, dtype: object\n",
      "3 raw_character_text                           \\tFRANCIS FORD COPPOLA\\r\\n\n",
      "spoken_words          \\r\\n\\r\\n\\r\\n\\r\\n\\r\\n\\r\\n\\r\\n\\r\\n\\r\\n\\r\\n\\r\\n\\r...\n",
      "Name: 3, dtype: object\n",
      "4 raw_character_text            THIRD DRAFT\\t\\t\\t\\tPARAMOUNT PICTURES\\r\\n\n",
      "spoken_words          \\t\\t\\t\\t\\t1 Gulf and Western Plaza\\r\\nMarch 29...\n",
      "Name: 4, dtype: object\n",
      "5 raw_character_text            \\tINT DAY: DON'S OFFICE (SUMMER 1945)\\r\\n\n",
      "spoken_words          \\r\\n\\tThe PARAMOUNT Logo is presented austerel...\n",
      "Name: 5, dtype: object\n",
      "6 raw_character_text                          \\t\\t\\t\\t  THE GODFATHER\\r\\n\n",
      "spoken_words          \\r\\n\\tWhile this remains, we hear: \"I believe ...\n",
      "Name: 6, dtype: object\n",
      "7 raw_character_text                                 \\t\\t\\t\\tBONASERA\\r\\n\n",
      "spoken_words          \\t\\tAmerica has made my fortune.\\r\\n\\r\\n\\tAs h...\n",
      "Name: 7, dtype: object\n",
      "8 raw_character_text                                 \\t\\t\\t\\tBONASERA\\r\\n\n",
      "spoken_words          \\t\\tI raised my daughter in the American\\r\\n\\t...\n",
      "Name: 8, dtype: object\n",
      "9 raw_character_text                                 \\t\\t\\t\\tBONASERA\\r\\n\n",
      "spoken_words          \\t\\tI went to the Police like a good\\r\\n\\t\\tAm...\n",
      "Name: 9, dtype: object\n"
     ]
    }
   ],
   "source": [
    "for i, row in godfather_df.iterrows():\n",
    "    print(i, row)\n",
    "    godfather_df.loc[i, 'raw_character_text'] = remove_non_alphabetic_characters(row['raw_character_text'])\n",
    "    godfather_df.loc[i, 'spoken_words'] = remove_non_alphabetic_characters(row['spoken_words'])"
   ]
  },
  {
   "cell_type": "code",
   "execution_count": 99,
   "metadata": {},
   "outputs": [
    {
     "data": {
      "text/html": [
       "<div>\n",
       "<style scoped>\n",
       "    .dataframe tbody tr th:only-of-type {\n",
       "        vertical-align: middle;\n",
       "    }\n",
       "\n",
       "    .dataframe tbody tr th {\n",
       "        vertical-align: top;\n",
       "    }\n",
       "\n",
       "    .dataframe thead th {\n",
       "        text-align: right;\n",
       "    }\n",
       "</style>\n",
       "<table border=\"1\" class=\"dataframe\">\n",
       "  <thead>\n",
       "    <tr style=\"text-align: right;\">\n",
       "      <th></th>\n",
       "      <th>raw_character_text</th>\n",
       "      <th>spoken_words</th>\n",
       "    </tr>\n",
       "  </thead>\n",
       "  <tbody>\n",
       "    <tr>\n",
       "      <th>0</th>\n",
       "      <td>the godfather</td>\n",
       "      <td></td>\n",
       "    </tr>\n",
       "    <tr>\n",
       "      <th>1</th>\n",
       "      <td></td>\n",
       "      <td>screenplayy</td>\n",
       "    </tr>\n",
       "    <tr>\n",
       "      <th>2</th>\n",
       "      <td>mario puzo</td>\n",
       "      <td>and</td>\n",
       "    </tr>\n",
       "    <tr>\n",
       "      <th>3</th>\n",
       "      <td>francis ford coppola</td>\n",
       "      <td></td>\n",
       "    </tr>\n",
       "    <tr>\n",
       "      <th>4</th>\n",
       "      <td>third draftparamount pictures</td>\n",
       "      <td>1 gulf and western plazamarch 29, 1971new york...</td>\n",
       "    </tr>\n",
       "    <tr>\n",
       "      <th>5</th>\n",
       "      <td>int day: don's office (summer 1945)</td>\n",
       "      <td>the paramount logo is presented austerely over...</td>\n",
       "    </tr>\n",
       "    <tr>\n",
       "      <th>6</th>\n",
       "      <td>the godfather</td>\n",
       "      <td>while this remains, we hear: \"i elieve in amer...</td>\n",
       "    </tr>\n",
       "    <tr>\n",
       "      <th>7</th>\n",
       "      <td>bonasera</td>\n",
       "      <td>america has made my fortune.as he speaks, the ...</td>\n",
       "    </tr>\n",
       "    <tr>\n",
       "      <th>8</th>\n",
       "      <td>bonasera</td>\n",
       "      <td>i raised my daughter in the americanfashion; i...</td>\n",
       "    </tr>\n",
       "    <tr>\n",
       "      <th>9</th>\n",
       "      <td>bonasera</td>\n",
       "      <td>i went to the police like a goodamerican.  the...</td>\n",
       "    </tr>\n",
       "  </tbody>\n",
       "</table>\n",
       "</div>"
      ],
      "text/plain": [
       "                    raw_character_text  \\\n",
       "0                        the godfather   \n",
       "1                                        \n",
       "2                           mario puzo   \n",
       "3                 francis ford coppola   \n",
       "4        third draftparamount pictures   \n",
       "5  int day: don's office (summer 1945)   \n",
       "6                        the godfather   \n",
       "7                             bonasera   \n",
       "8                             bonasera   \n",
       "9                             bonasera   \n",
       "\n",
       "                                        spoken_words  \n",
       "0                                                     \n",
       "1                                        screenplayy  \n",
       "2                                                and  \n",
       "3                                                     \n",
       "4  1 gulf and western plazamarch 29, 1971new york...  \n",
       "5  the paramount logo is presented austerely over...  \n",
       "6  while this remains, we hear: \"i elieve in amer...  \n",
       "7  america has made my fortune.as he speaks, the ...  \n",
       "8  i raised my daughter in the americanfashion; i...  \n",
       "9  i went to the police like a goodamerican.  the...  "
      ]
     },
     "execution_count": 99,
     "metadata": {},
     "output_type": "execute_result"
    }
   ],
   "source": [
    "godfather_df"
   ]
  },
  {
   "cell_type": "code",
   "execution_count": 100,
   "metadata": {},
   "outputs": [
    {
     "data": {
      "text/plain": [
       "'i raised my daughter in the americanfashion; i gave her freedom, uttaught her never to dishonor herfamily.  she found a oy friend,not an italian.  she went to themovies with him, stayed out late.two months ago he took her for adrive, with another oy friend.they made her drink whiskey andthen they tried to take advantageof her.  she resisted; she kept herhonor.  so they eat her like ananimal.  when i went to the hospitalher nose was roken, her jaw wasshattered and held together ywire, and she could not even weepecause of the pain.he can arely speak; he is weeping now.'"
      ]
     },
     "execution_count": 100,
     "metadata": {},
     "output_type": "execute_result"
    }
   ],
   "source": [
    "godfather_df.loc[8, \"spoken_words\"]"
   ]
  }
 ],
 "metadata": {
  "kernelspec": {
   "display_name": "tf_gpu",
   "language": "python",
   "name": "python3"
  },
  "language_info": {
   "codemirror_mode": {
    "name": "ipython",
    "version": 3
   },
   "file_extension": ".py",
   "mimetype": "text/x-python",
   "name": "python",
   "nbconvert_exporter": "python",
   "pygments_lexer": "ipython3",
   "version": "3.9.13"
  },
  "orig_nbformat": 4
 },
 "nbformat": 4,
 "nbformat_minor": 2
}
